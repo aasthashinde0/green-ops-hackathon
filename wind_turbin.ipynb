{
  "cells": [
    {
      "cell_type": "code",
      "execution_count": null,
      "metadata": {
        "colab": {
          "base_uri": "https://localhost:8080/",
          "height": 91
        },
        "id": "0xVJxWtBUt4F",
        "outputId": "34c1c7bf-1730-4d54-a748-378f8ef2bac5"
      },
      "outputs": [
        {
          "output_type": "display_data",
          "data": {
            "text/plain": [
              "<IPython.core.display.HTML object>"
            ],
            "text/html": [
              "\n",
              "     <input type=\"file\" id=\"files-2239a9d7-18d8-4e4d-835e-b5622bd41061\" name=\"files[]\" multiple disabled\n",
              "        style=\"border:none\" />\n",
              "     <output id=\"result-2239a9d7-18d8-4e4d-835e-b5622bd41061\">\n",
              "      Upload widget is only available when the cell has been executed in the\n",
              "      current browser session. Please rerun this cell to enable.\n",
              "      </output>\n",
              "      <script>// Copyright 2017 Google LLC\n",
              "//\n",
              "// Licensed under the Apache License, Version 2.0 (the \"License\");\n",
              "// you may not use this file except in compliance with the License.\n",
              "// You may obtain a copy of the License at\n",
              "//\n",
              "//      http://www.apache.org/licenses/LICENSE-2.0\n",
              "//\n",
              "// Unless required by applicable law or agreed to in writing, software\n",
              "// distributed under the License is distributed on an \"AS IS\" BASIS,\n",
              "// WITHOUT WARRANTIES OR CONDITIONS OF ANY KIND, either express or implied.\n",
              "// See the License for the specific language governing permissions and\n",
              "// limitations under the License.\n",
              "\n",
              "/**\n",
              " * @fileoverview Helpers for google.colab Python module.\n",
              " */\n",
              "(function(scope) {\n",
              "function span(text, styleAttributes = {}) {\n",
              "  const element = document.createElement('span');\n",
              "  element.textContent = text;\n",
              "  for (const key of Object.keys(styleAttributes)) {\n",
              "    element.style[key] = styleAttributes[key];\n",
              "  }\n",
              "  return element;\n",
              "}\n",
              "\n",
              "// Max number of bytes which will be uploaded at a time.\n",
              "const MAX_PAYLOAD_SIZE = 100 * 1024;\n",
              "\n",
              "function _uploadFiles(inputId, outputId) {\n",
              "  const steps = uploadFilesStep(inputId, outputId);\n",
              "  const outputElement = document.getElementById(outputId);\n",
              "  // Cache steps on the outputElement to make it available for the next call\n",
              "  // to uploadFilesContinue from Python.\n",
              "  outputElement.steps = steps;\n",
              "\n",
              "  return _uploadFilesContinue(outputId);\n",
              "}\n",
              "\n",
              "// This is roughly an async generator (not supported in the browser yet),\n",
              "// where there are multiple asynchronous steps and the Python side is going\n",
              "// to poll for completion of each step.\n",
              "// This uses a Promise to block the python side on completion of each step,\n",
              "// then passes the result of the previous step as the input to the next step.\n",
              "function _uploadFilesContinue(outputId) {\n",
              "  const outputElement = document.getElementById(outputId);\n",
              "  const steps = outputElement.steps;\n",
              "\n",
              "  const next = steps.next(outputElement.lastPromiseValue);\n",
              "  return Promise.resolve(next.value.promise).then((value) => {\n",
              "    // Cache the last promise value to make it available to the next\n",
              "    // step of the generator.\n",
              "    outputElement.lastPromiseValue = value;\n",
              "    return next.value.response;\n",
              "  });\n",
              "}\n",
              "\n",
              "/**\n",
              " * Generator function which is called between each async step of the upload\n",
              " * process.\n",
              " * @param {string} inputId Element ID of the input file picker element.\n",
              " * @param {string} outputId Element ID of the output display.\n",
              " * @return {!Iterable<!Object>} Iterable of next steps.\n",
              " */\n",
              "function* uploadFilesStep(inputId, outputId) {\n",
              "  const inputElement = document.getElementById(inputId);\n",
              "  inputElement.disabled = false;\n",
              "\n",
              "  const outputElement = document.getElementById(outputId);\n",
              "  outputElement.innerHTML = '';\n",
              "\n",
              "  const pickedPromise = new Promise((resolve) => {\n",
              "    inputElement.addEventListener('change', (e) => {\n",
              "      resolve(e.target.files);\n",
              "    });\n",
              "  });\n",
              "\n",
              "  const cancel = document.createElement('button');\n",
              "  inputElement.parentElement.appendChild(cancel);\n",
              "  cancel.textContent = 'Cancel upload';\n",
              "  const cancelPromise = new Promise((resolve) => {\n",
              "    cancel.onclick = () => {\n",
              "      resolve(null);\n",
              "    };\n",
              "  });\n",
              "\n",
              "  // Wait for the user to pick the files.\n",
              "  const files = yield {\n",
              "    promise: Promise.race([pickedPromise, cancelPromise]),\n",
              "    response: {\n",
              "      action: 'starting',\n",
              "    }\n",
              "  };\n",
              "\n",
              "  cancel.remove();\n",
              "\n",
              "  // Disable the input element since further picks are not allowed.\n",
              "  inputElement.disabled = true;\n",
              "\n",
              "  if (!files) {\n",
              "    return {\n",
              "      response: {\n",
              "        action: 'complete',\n",
              "      }\n",
              "    };\n",
              "  }\n",
              "\n",
              "  for (const file of files) {\n",
              "    const li = document.createElement('li');\n",
              "    li.append(span(file.name, {fontWeight: 'bold'}));\n",
              "    li.append(span(\n",
              "        `(${file.type || 'n/a'}) - ${file.size} bytes, ` +\n",
              "        `last modified: ${\n",
              "            file.lastModifiedDate ? file.lastModifiedDate.toLocaleDateString() :\n",
              "                                    'n/a'} - `));\n",
              "    const percent = span('0% done');\n",
              "    li.appendChild(percent);\n",
              "\n",
              "    outputElement.appendChild(li);\n",
              "\n",
              "    const fileDataPromise = new Promise((resolve) => {\n",
              "      const reader = new FileReader();\n",
              "      reader.onload = (e) => {\n",
              "        resolve(e.target.result);\n",
              "      };\n",
              "      reader.readAsArrayBuffer(file);\n",
              "    });\n",
              "    // Wait for the data to be ready.\n",
              "    let fileData = yield {\n",
              "      promise: fileDataPromise,\n",
              "      response: {\n",
              "        action: 'continue',\n",
              "      }\n",
              "    };\n",
              "\n",
              "    // Use a chunked sending to avoid message size limits. See b/62115660.\n",
              "    let position = 0;\n",
              "    do {\n",
              "      const length = Math.min(fileData.byteLength - position, MAX_PAYLOAD_SIZE);\n",
              "      const chunk = new Uint8Array(fileData, position, length);\n",
              "      position += length;\n",
              "\n",
              "      const base64 = btoa(String.fromCharCode.apply(null, chunk));\n",
              "      yield {\n",
              "        response: {\n",
              "          action: 'append',\n",
              "          file: file.name,\n",
              "          data: base64,\n",
              "        },\n",
              "      };\n",
              "\n",
              "      let percentDone = fileData.byteLength === 0 ?\n",
              "          100 :\n",
              "          Math.round((position / fileData.byteLength) * 100);\n",
              "      percent.textContent = `${percentDone}% done`;\n",
              "\n",
              "    } while (position < fileData.byteLength);\n",
              "  }\n",
              "\n",
              "  // All done.\n",
              "  yield {\n",
              "    response: {\n",
              "      action: 'complete',\n",
              "    }\n",
              "  };\n",
              "}\n",
              "\n",
              "scope.google = scope.google || {};\n",
              "scope.google.colab = scope.google.colab || {};\n",
              "scope.google.colab._files = {\n",
              "  _uploadFiles,\n",
              "  _uploadFilesContinue,\n",
              "};\n",
              "})(self);\n",
              "</script> "
            ]
          },
          "metadata": {}
        },
        {
          "output_type": "stream",
          "name": "stdout",
          "text": [
            "Saving kaggle (1).json to kaggle (1).json\n"
          ]
        },
        {
          "output_type": "execute_result",
          "data": {
            "text/plain": [
              "{'kaggle (1).json': b'{\"username\":\"asthashinde0\",\"key\":\"c556574bdf5316bba0f3d6438c301bb8\"}'}"
            ]
          },
          "metadata": {},
          "execution_count": 6
        }
      ],
      "source": [
        "from google.colab import files\n",
        "files.upload()  # This will prompt you to upload the kaggle.json file"
      ]
    },
    {
      "cell_type": "code",
      "execution_count": null,
      "metadata": {
        "id": "2Cb6-ezTWvF0",
        "colab": {
          "base_uri": "https://localhost:8080/"
        },
        "outputId": "c21fe25b-fee8-4bc3-8a6a-b74b5ee8af52"
      },
      "outputs": [
        {
          "output_type": "stream",
          "name": "stdout",
          "text": [
            "Requirement already satisfied: kaggle in /usr/local/lib/python3.11/dist-packages (1.6.17)\n",
            "Requirement already satisfied: six>=1.10 in /usr/local/lib/python3.11/dist-packages (from kaggle) (1.17.0)\n",
            "Requirement already satisfied: certifi>=2023.7.22 in /usr/local/lib/python3.11/dist-packages (from kaggle) (2025.1.31)\n",
            "Requirement already satisfied: python-dateutil in /usr/local/lib/python3.11/dist-packages (from kaggle) (2.8.2)\n",
            "Requirement already satisfied: requests in /usr/local/lib/python3.11/dist-packages (from kaggle) (2.32.3)\n",
            "Requirement already satisfied: tqdm in /usr/local/lib/python3.11/dist-packages (from kaggle) (4.67.1)\n",
            "Requirement already satisfied: python-slugify in /usr/local/lib/python3.11/dist-packages (from kaggle) (8.0.4)\n",
            "Requirement already satisfied: urllib3 in /usr/local/lib/python3.11/dist-packages (from kaggle) (2.3.0)\n",
            "Requirement already satisfied: bleach in /usr/local/lib/python3.11/dist-packages (from kaggle) (6.2.0)\n",
            "Requirement already satisfied: webencodings in /usr/local/lib/python3.11/dist-packages (from bleach->kaggle) (0.5.1)\n",
            "Requirement already satisfied: text-unidecode>=1.3 in /usr/local/lib/python3.11/dist-packages (from python-slugify->kaggle) (1.3)\n",
            "Requirement already satisfied: charset-normalizer<4,>=2 in /usr/local/lib/python3.11/dist-packages (from requests->kaggle) (3.4.1)\n",
            "Requirement already satisfied: idna<4,>=2.5 in /usr/local/lib/python3.11/dist-packages (from requests->kaggle) (3.10)\n"
          ]
        }
      ],
      "source": [
        "!pip install kaggle  # Install the Kaggle package\n",
        "import os\n",
        "# Move the uploaded kaggle.json file to the appropriate location\n",
        "os.makedirs('/root/.kaggle', exist_ok=True)\n",
        "!mv 'kaggle (1).json' /root/.kaggle/kaggle.json"
      ]
    },
    {
      "cell_type": "code",
      "source": [
        "!ls -al ~/.kaggle/kaggle.json"
      ],
      "metadata": {
        "colab": {
          "base_uri": "https://localhost:8080/"
        },
        "id": "X3ALsaAXwi7w",
        "outputId": "3aba458d-e43d-417e-a7da-d91ffc508643"
      },
      "execution_count": null,
      "outputs": [
        {
          "output_type": "stream",
          "name": "stdout",
          "text": [
            "-rw-r--r-- 1 root root 68 Mar  1 03:33 /root/.kaggle/kaggle.json\n"
          ]
        }
      ]
    },
    {
      "cell_type": "code",
      "execution_count": null,
      "metadata": {
        "colab": {
          "base_uri": "https://localhost:8080/"
        },
        "id": "LtyI5EBrW4iZ",
        "outputId": "4698e570-a084-4321-f56c-375bca3b411c"
      },
      "outputs": [
        {
          "output_type": "stream",
          "name": "stdout",
          "text": [
            "Warning: Your Kaggle API key is readable by other users on this system! To fix this, you can run 'chmod 600 /root/.kaggle/kaggle.json'\n",
            "Dataset URL: https://www.kaggle.com/datasets/azizkasimov/wind-turbine-scada-data-for-early-fault-detection\n",
            "License(s): CC-BY-SA-4.0\n",
            "Downloading wind-turbine-scada-data-for-early-fault-detection.zip to /content\n",
            "100% 5.81G/5.82G [01:24<00:00, 80.0MB/s]\n",
            "100% 5.82G/5.82G [01:24<00:00, 74.0MB/s]\n"
          ]
        }
      ],
      "source": [
        "!kaggle datasets download -d azizkasimov/wind-turbine-scada-data-for-early-fault-detection"
      ]
    },
    {
      "cell_type": "code",
      "execution_count": null,
      "metadata": {
        "colab": {
          "base_uri": "https://localhost:8080/"
        },
        "id": "k3yzS5ZMX6gp",
        "outputId": "948aaf26-e02c-4e4a-e321-57b8325a11fa"
      },
      "outputs": [
        {
          "output_type": "stream",
          "name": "stdout",
          "text": [
            "Archive:  wind-turbine-scada-data-for-early-fault-detection.zip\n",
            "  inflating: README.md               \n",
            "  inflating: README.txt              \n",
            "  inflating: Wind Farm A/comma_event_info.csv  \n",
            "  inflating: Wind Farm A/comma_feature_description.csv  \n",
            "  inflating: Wind Farm A/datasets/comma_0.csv  \n",
            "  inflating: Wind Farm A/datasets/comma_10.csv  \n",
            "  inflating: Wind Farm A/datasets/comma_13.csv  \n",
            "  inflating: Wind Farm A/datasets/comma_14.csv  \n",
            "  inflating: Wind Farm A/datasets/comma_17.csv  \n",
            "  inflating: Wind Farm A/datasets/comma_22.csv  \n",
            "  inflating: Wind Farm A/datasets/comma_24.csv  \n",
            "  inflating: Wind Farm A/datasets/comma_25.csv  \n",
            "  inflating: Wind Farm A/datasets/comma_26.csv  \n",
            "  inflating: Wind Farm A/datasets/comma_3.csv  \n",
            "  inflating: Wind Farm A/datasets/comma_38.csv  \n",
            "  inflating: Wind Farm A/datasets/comma_40.csv  \n",
            "  inflating: Wind Farm A/datasets/comma_42.csv  \n",
            "  inflating: Wind Farm A/datasets/comma_45.csv  \n",
            "  inflating: Wind Farm A/datasets/comma_51.csv  \n",
            "  inflating: Wind Farm A/datasets/comma_68.csv  \n",
            "  inflating: Wind Farm A/datasets/comma_69.csv  \n",
            "  inflating: Wind Farm A/datasets/comma_71.csv  \n",
            "  inflating: Wind Farm A/datasets/comma_72.csv  \n",
            "  inflating: Wind Farm A/datasets/comma_73.csv  \n",
            "  inflating: Wind Farm A/datasets/comma_84.csv  \n",
            "  inflating: Wind Farm A/datasets/comma_92.csv  \n",
            "  inflating: Wind Farm B/comma_event_info.csv  \n",
            "  inflating: Wind Farm B/comma_feature_description.csv  \n",
            "  inflating: Wind Farm B/datasets/comma_19.csv  \n",
            "  inflating: Wind Farm B/datasets/comma_2.csv  \n",
            "  inflating: Wind Farm B/datasets/comma_21.csv  \n",
            "  inflating: Wind Farm B/datasets/comma_23.csv  \n",
            "  inflating: Wind Farm B/datasets/comma_27.csv  \n",
            "  inflating: Wind Farm B/datasets/comma_34.csv  \n",
            "  inflating: Wind Farm B/datasets/comma_52.csv  \n",
            "  inflating: Wind Farm B/datasets/comma_53.csv  \n",
            "  inflating: Wind Farm B/datasets/comma_7.csv  \n",
            "  inflating: Wind Farm B/datasets/comma_74.csv  \n",
            "  inflating: Wind Farm B/datasets/comma_77.csv  \n",
            "  inflating: Wind Farm B/datasets/comma_82.csv  \n",
            "  inflating: Wind Farm B/datasets/comma_83.csv  \n",
            "  inflating: Wind Farm B/datasets/comma_86.csv  \n",
            "  inflating: Wind Farm B/datasets/comma_87.csv  \n",
            "  inflating: Wind Farm C/comma_event_info.csv  \n",
            "  inflating: Wind Farm C/comma_feature_description.csv  \n",
            "  inflating: Wind Farm C/datasets/comma_1.csv  \n",
            "  inflating: Wind Farm C/datasets/comma_11.csv  \n",
            "  inflating: Wind Farm C/datasets/comma_12.csv  \n",
            "  inflating: Wind Farm C/datasets/comma_15.csv  \n",
            "  inflating: Wind Farm C/datasets/comma_16.csv  \n",
            "  inflating: Wind Farm C/datasets/comma_18.csv  \n",
            "  inflating: Wind Farm C/datasets/comma_20.csv  \n",
            "  inflating: Wind Farm C/datasets/comma_28.csv  \n",
            "  inflating: Wind Farm C/datasets/comma_29.csv  \n",
            "  inflating: Wind Farm C/datasets/comma_30.csv  \n",
            "  inflating: Wind Farm C/datasets/comma_31.csv  \n",
            "  inflating: Wind Farm C/datasets/comma_32.csv  \n",
            "  inflating: Wind Farm C/datasets/comma_33.csv  \n",
            "  inflating: Wind Farm C/datasets/comma_35.csv  \n",
            "  inflating: Wind Farm C/datasets/comma_36.csv  \n",
            "  inflating: Wind Farm C/datasets/comma_37.csv  \n",
            "  inflating: Wind Farm C/datasets/comma_39.csv  \n",
            "  inflating: Wind Farm C/datasets/comma_4.csv  \n",
            "  inflating: Wind Farm C/datasets/comma_41.csv  \n",
            "  inflating: Wind Farm C/datasets/comma_43.csv  \n",
            "  inflating: Wind Farm C/datasets/comma_44.csv  \n",
            "  inflating: Wind Farm C/datasets/comma_46.csv  \n",
            "  inflating: Wind Farm C/datasets/comma_47.csv  \n",
            "  inflating: Wind Farm C/datasets/comma_48.csv  \n",
            "  inflating: Wind Farm C/datasets/comma_49.csv  \n",
            "  inflating: Wind Farm C/datasets/comma_5.csv  \n",
            "  inflating: Wind Farm C/datasets/comma_50.csv  \n",
            "  inflating: Wind Farm C/datasets/comma_54.csv  \n",
            "  inflating: Wind Farm C/datasets/comma_55.csv  \n",
            "  inflating: Wind Farm C/datasets/comma_56.csv  \n",
            "  inflating: Wind Farm C/datasets/comma_57.csv  \n",
            "  inflating: Wind Farm C/datasets/comma_58.csv  \n",
            "  inflating: Wind Farm C/datasets/comma_59.csv  \n",
            "  inflating: Wind Farm C/datasets/comma_6.csv  \n",
            "  inflating: Wind Farm C/datasets/comma_60.csv  \n",
            "  inflating: Wind Farm C/datasets/comma_61.csv  \n",
            "  inflating: Wind Farm C/datasets/comma_62.csv  \n",
            "  inflating: Wind Farm C/datasets/comma_63.csv  \n",
            "  inflating: Wind Farm C/datasets/comma_64.csv  \n",
            "  inflating: Wind Farm C/datasets/comma_65.csv  \n",
            "  inflating: Wind Farm C/datasets/comma_66.csv  \n",
            "  inflating: Wind Farm C/datasets/comma_67.csv  \n",
            "  inflating: Wind Farm C/datasets/comma_70.csv  \n",
            "  inflating: Wind Farm C/datasets/comma_75.csv  \n",
            "  inflating: Wind Farm C/datasets/comma_76.csv  \n",
            "  inflating: Wind Farm C/datasets/comma_78.csv  \n",
            "  inflating: Wind Farm C/datasets/comma_79.csv  \n",
            "  inflating: Wind Farm C/datasets/comma_8.csv  \n",
            "  inflating: Wind Farm C/datasets/comma_80.csv  \n",
            "  inflating: Wind Farm C/datasets/comma_81.csv  \n",
            "  inflating: Wind Farm C/datasets/comma_85.csv  \n",
            "  inflating: Wind Farm C/datasets/comma_88.csv  \n",
            "  inflating: Wind Farm C/datasets/comma_89.csv  \n",
            "  inflating: Wind Farm C/datasets/comma_9.csv  \n",
            "  inflating: Wind Farm C/datasets/comma_90.csv  \n",
            "  inflating: Wind Farm C/datasets/comma_91.csv  \n",
            "  inflating: Wind Farm C/datasets/comma_93.csv  \n",
            "  inflating: Wind Farm C/datasets/comma_94.csv  \n"
          ]
        }
      ],
      "source": [
        "!unzip wind-turbine-scada-data-for-early-fault-detection.zip"
      ]
    },
    {
      "cell_type": "code",
      "execution_count": null,
      "metadata": {
        "colab": {
          "base_uri": "https://localhost:8080/"
        },
        "id": "ri7vSKWSZZ27",
        "outputId": "f163a562-09e5-4003-c19b-072e69d34ae9"
      },
      "outputs": [
        {
          "output_type": "stream",
          "name": "stdout",
          "text": [
            "Files and Folders in /content:\n",
            "['.config', 'Wind Farm A', 'README.txt', 'kaggle (1).json', 'Wind Farm C', 'wind-turbine-scada-data-for-early-fault-detection.zip', 'README.md', 'Wind Farm B', 'sample_data']\n"
          ]
        }
      ],
      "source": [
        "import os\n",
        "# List all files and folders in /content\n",
        "print(\"Files and Folders in /content:\")\n",
        "print(os.listdir(\"/content\"))"
      ]
    },
    {
      "cell_type": "code",
      "execution_count": null,
      "metadata": {
        "colab": {
          "base_uri": "https://localhost:8080/"
        },
        "id": "sSx65MUNaLDB",
        "outputId": "1e2a673c-fa10-4db4-b5ed-466a8613f914"
      },
      "outputs": [
        {
          "output_type": "stream",
          "name": "stdout",
          "text": [
            "    sensor_name                  statistics_type              description  \\\n",
            "0      sensor_0                          average      Ambient temperature   \n",
            "1      sensor_1                          average  Wind absolute direction   \n",
            "2      sensor_2                          average  Wind relative direction   \n",
            "3  wind_speed_3  maximum,minimum,average,std_dev                Windspeed   \n",
            "4  wind_speed_4                          average      Estimated windspeed   \n",
            "\n",
            "  unit is_angle is_counter  event_id event_label event_start  event_start_id  \\\n",
            "0   �C    False      False       NaN         NaN         NaN             NaN   \n",
            "1    �     True      False       NaN         NaN         NaN             NaN   \n",
            "2    �     True      False       NaN         NaN         NaN             NaN   \n",
            "3  m/s    False      False       NaN         NaN         NaN             NaN   \n",
            "4  m/s    False      False       NaN         NaN         NaN             NaN   \n",
            "\n",
            "  event_end  event_end_id event_description  \n",
            "0       NaN           NaN               NaN  \n",
            "1       NaN           NaN               NaN  \n",
            "2       NaN           NaN               NaN  \n",
            "3       NaN           NaN               NaN  \n",
            "4       NaN           NaN               NaN  \n",
            "<class 'pandas.core.frame.DataFrame'>\n",
            "RangeIndex: 450 entries, 0 to 449\n",
            "Data columns (total 13 columns):\n",
            " #   Column             Non-Null Count  Dtype  \n",
            "---  ------             --------------  -----  \n",
            " 0   sensor_name        355 non-null    object \n",
            " 1   statistics_type    355 non-null    object \n",
            " 2   description        355 non-null    object \n",
            " 3   unit               354 non-null    object \n",
            " 4   is_angle           355 non-null    object \n",
            " 5   is_counter         355 non-null    object \n",
            " 6   event_id           95 non-null     float64\n",
            " 7   event_label        95 non-null     object \n",
            " 8   event_start        95 non-null     object \n",
            " 9   event_start_id     95 non-null     float64\n",
            " 10  event_end          95 non-null     object \n",
            " 11  event_end_id       95 non-null     float64\n",
            " 12  event_description  44 non-null     object \n",
            "dtypes: float64(3), object(10)\n",
            "memory usage: 45.8+ KB\n",
            "None\n"
          ]
        }
      ],
      "source": [
        "import os\n",
        "import pandas as pd\n",
        "import glob\n",
        "\n",
        "# Define base path\n",
        "base_path = \"/content\"\n",
        "\n",
        "# Function to load and merge CSV files from a folder\n",
        "def load_data(folder_name):\n",
        "    folder_path = os.path.join(base_path, folder_name)\n",
        "    all_files = glob.glob(os.path.join(folder_path, \"*.csv\"))\n",
        "    df_list = [pd.read_csv(file) for file in all_files]\n",
        "    return pd.concat(df_list, ignore_index=True)\n",
        "\n",
        "# Load data from all wind farms\n",
        "df_a = load_data(\"Wind Farm A\")\n",
        "df_b = load_data(\"Wind Farm B\")\n",
        "df_c = load_data(\"Wind Farm C\")\n",
        "\n",
        "# Combine all wind farm data\n",
        "df = pd.concat([df_a, df_b, df_c], ignore_index=True)\n",
        "\n",
        "# Display first rows\n",
        "print(df.head())\n",
        "print(df.info())\n"
      ]
    },
    {
      "cell_type": "code",
      "execution_count": null,
      "metadata": {
        "colab": {
          "base_uri": "https://localhost:8080/"
        },
        "id": "Zs0pGKPtbS3x",
        "outputId": "9579d953-ee70-4fd2-8bfb-4a63e0a3ba37"
      },
      "outputs": [
        {
          "output_type": "stream",
          "name": "stdout",
          "text": [
            "sensor_name        95\n",
            "statistics_type     0\n",
            "description         0\n",
            "unit                0\n",
            "is_angle           95\n",
            "is_counter         95\n",
            "dtype: int64\n"
          ]
        }
      ],
      "source": [
        "import pandas as pd\n",
        "import numpy as np\n",
        "import matplotlib.pyplot as plt\n",
        "import seaborn as sns\n",
        "from sklearn.model_selection import train_test_split\n",
        "from sklearn.preprocessing import StandardScaler\n",
        "import tensorflow as tf\n",
        "from tensorflow import keras\n",
        "from tensorflow.keras import layers\n",
        "\n",
        "# Drop irrelevant columns (event-related columns)\n",
        "df_cleaned = df.drop(columns=['event_id', 'event_label', 'event_start', 'event_start_id',\n",
        "                              'event_end', 'event_end_id', 'event_description'])\n",
        "\n",
        "# Fill missing values in categorical columns with 'Unknown'\n",
        "df_cleaned.fillna({'unit': 'Unknown', 'statistics_type': 'Unknown', 'description': 'Unknown'}, inplace=True)\n",
        "\n",
        "# Check if missing values are handled\n",
        "print(df_cleaned.isnull().sum())\n"
      ]
    },
    {
      "cell_type": "code",
      "execution_count": null,
      "metadata": {
        "colab": {
          "base_uri": "https://localhost:8080/"
        },
        "id": "wRKwvUgMclku",
        "outputId": "93ae9bcb-d17e-4389-f12c-f7baca199c20"
      },
      "outputs": [
        {
          "output_type": "stream",
          "name": "stderr",
          "text": [
            "<ipython-input-15-914c7b836cec>:1: FutureWarning: A value is trying to be set on a copy of a DataFrame or Series through chained assignment using an inplace method.\n",
            "The behavior will change in pandas 3.0. This inplace method will never work because the intermediate object on which we are setting values always behaves as a copy.\n",
            "\n",
            "For example, when doing 'df[col].method(value, inplace=True)', try using 'df.method({col: value}, inplace=True)' or df[col] = df[col].method(value) instead, to perform the operation inplace on the original object.\n",
            "\n",
            "\n",
            "  df_cleaned['sensor_name'].fillna('Unknown', inplace=True)\n"
          ]
        }
      ],
      "source": [
        "df_cleaned['sensor_name'].fillna('Unknown', inplace=True)\n",
        "# Convert is_angle & is_counter (True/False) to numerical (0/1), filling NaNs with 0 (assuming False)\n",
        "df_cleaned['is_angle'] = df_cleaned['is_angle'].map({'True': 1, 'False': 0})\n",
        "df_cleaned['is_counter'] = df_cleaned['is_counter'].map({'True': 1, 'False': 0})"
      ]
    },
    {
      "cell_type": "code",
      "execution_count": null,
      "metadata": {
        "colab": {
          "base_uri": "https://localhost:8080/"
        },
        "id": "OHpiaCDVc34K",
        "outputId": "b6cb85ac-6a58-46a6-fbdd-19d0ac6222d4"
      },
      "outputs": [
        {
          "output_type": "stream",
          "name": "stdout",
          "text": [
            "sensor_name        0\n",
            "statistics_type    0\n",
            "description        0\n",
            "unit               0\n",
            "is_angle           0\n",
            "is_counter         0\n",
            "dtype: int64\n"
          ]
        }
      ],
      "source": [
        "# Fill remaining NaNs in is_angle & is_counter with 0 (assuming default as False)\n",
        "df_cleaned[['is_angle', 'is_counter']] = df_cleaned[['is_angle', 'is_counter']].fillna(0)\n",
        "\n",
        "# Verify if missing values are gone\n",
        "print(df_cleaned.isnull().sum())"
      ]
    },
    {
      "cell_type": "code",
      "execution_count": null,
      "metadata": {
        "colab": {
          "base_uri": "https://localhost:8080/"
        },
        "id": "cz3X85b9c7VN",
        "outputId": "585082f2-bf77-45a5-e0db-696317f912b3"
      },
      "outputs": [
        {
          "output_type": "stream",
          "name": "stdout",
          "text": [
            "   sensor_name  statistics_type  description  unit  is_angle  is_counter\n",
            "0           16                1           22    32       0.0         0.0\n",
            "1           17                1          337    31       0.0         0.0\n",
            "2          124                1          338    31       0.0         0.0\n",
            "3          250               10          344    24       0.0         0.0\n",
            "4          251                1           88    24       0.0         0.0\n"
          ]
        }
      ],
      "source": [
        "from sklearn.preprocessing import LabelEncoder\n",
        "\n",
        "# Columns to encode\n",
        "categorical_cols = ['sensor_name', 'statistics_type', 'description', 'unit']\n",
        "\n",
        "# Apply Label Encoding\n",
        "label_encoders = {}  # Store encoders for later inverse transformation\n",
        "for col in categorical_cols:\n",
        "    le = LabelEncoder()\n",
        "    df_cleaned[col] = le.fit_transform(df_cleaned[col])\n",
        "    label_encoders[col] = le  # Save the encoder\n",
        "\n",
        "# Check encoded values\n",
        "print(df_cleaned.head())\n"
      ]
    },
    {
      "cell_type": "code",
      "execution_count": null,
      "metadata": {
        "colab": {
          "base_uri": "https://localhost:8080/"
        },
        "id": "8M-SM1MofRwm",
        "outputId": "f870c55a-1b39-4eb5-de92-1a8883fb25af"
      },
      "outputs": [
        {
          "output_type": "stream",
          "name": "stdout",
          "text": [
            "       sensor_name  statistics_type  description        unit  is_angle  \\\n",
            "count   450.000000       450.000000   450.000000  450.000000     450.0   \n",
            "mean    106.417778         4.457778   205.337778   12.024444       0.0   \n",
            "std      83.145316         5.406360   108.688380    9.898227       0.0   \n",
            "min       0.000000         0.000000     0.000000    0.000000       0.0   \n",
            "25%      16.250000         1.000000   111.250000    3.000000       0.0   \n",
            "50%     110.500000         2.000000   218.500000   10.000000       0.0   \n",
            "75%     181.750000         6.000000   327.000000   15.000000       0.0   \n",
            "max     254.000000        23.000000   345.000000   32.000000       0.0   \n",
            "\n",
            "       is_counter  \n",
            "count       450.0  \n",
            "mean          0.0  \n",
            "std           0.0  \n",
            "min           0.0  \n",
            "25%           0.0  \n",
            "50%           0.0  \n",
            "75%           0.0  \n",
            "max           0.0  \n"
          ]
        }
      ],
      "source": [
        "# Select numeric columns (excluding categorical ones we encoded)\n",
        "numerical_cols = ['is_angle', 'is_counter']\n",
        "\n",
        "# Standardize numeric columns\n",
        "scaler = StandardScaler()\n",
        "df_cleaned[numerical_cols] = scaler.fit_transform(df_cleaned[numerical_cols])\n",
        "\n",
        "# Verify scaling\n",
        "print(df_cleaned.describe())\n"
      ]
    },
    {
      "cell_type": "code",
      "execution_count": null,
      "metadata": {
        "colab": {
          "base_uri": "https://localhost:8080/"
        },
        "id": "XNuFbasCi1vt",
        "outputId": "99aa074e-cd24-43ea-aef2-68636dee9743"
      },
      "outputs": [
        {
          "output_type": "stream",
          "name": "stdout",
          "text": [
            "Epoch 1/50\n",
            "\u001b[1m13/13\u001b[0m \u001b[32m━━━━━━━━━━━━━━━━━━━━\u001b[0m\u001b[37m\u001b[0m \u001b[1m5s\u001b[0m 151ms/step - loss: 0.9775 - val_loss: 0.9150\n",
            "Epoch 2/50\n",
            "\u001b[1m13/13\u001b[0m \u001b[32m━━━━━━━━━━━━━━━━━━━━\u001b[0m\u001b[37m\u001b[0m \u001b[1m0s\u001b[0m 7ms/step - loss: 0.9179 - val_loss: 0.9165\n",
            "Epoch 3/50\n",
            "\u001b[1m13/13\u001b[0m \u001b[32m━━━━━━━━━━━━━━━━━━━━\u001b[0m\u001b[37m\u001b[0m \u001b[1m0s\u001b[0m 7ms/step - loss: 0.8680 - val_loss: 0.9157\n",
            "Epoch 4/50\n",
            "\u001b[1m13/13\u001b[0m \u001b[32m━━━━━━━━━━━━━━━━━━━━\u001b[0m\u001b[37m\u001b[0m \u001b[1m0s\u001b[0m 6ms/step - loss: 0.8566 - val_loss: 0.9099\n",
            "Epoch 5/50\n",
            "\u001b[1m13/13\u001b[0m \u001b[32m━━━━━━━━━━━━━━━━━━━━\u001b[0m\u001b[37m\u001b[0m \u001b[1m0s\u001b[0m 7ms/step - loss: 0.8581 - val_loss: 0.8972\n",
            "Epoch 6/50\n",
            "\u001b[1m13/13\u001b[0m \u001b[32m━━━━━━━━━━━━━━━━━━━━\u001b[0m\u001b[37m\u001b[0m \u001b[1m0s\u001b[0m 6ms/step - loss: 0.8070 - val_loss: 0.8812\n",
            "Epoch 7/50\n",
            "\u001b[1m13/13\u001b[0m \u001b[32m━━━━━━━━━━━━━━━━━━━━\u001b[0m\u001b[37m\u001b[0m \u001b[1m0s\u001b[0m 6ms/step - loss: 0.7948 - val_loss: 0.8592\n",
            "Epoch 8/50\n",
            "\u001b[1m13/13\u001b[0m \u001b[32m━━━━━━━━━━━━━━━━━━━━\u001b[0m\u001b[37m\u001b[0m \u001b[1m0s\u001b[0m 7ms/step - loss: 0.7649 - val_loss: 0.8341\n",
            "Epoch 9/50\n",
            "\u001b[1m13/13\u001b[0m \u001b[32m━━━━━━━━━━━━━━━━━━━━\u001b[0m\u001b[37m\u001b[0m \u001b[1m0s\u001b[0m 6ms/step - loss: 0.7359 - val_loss: 0.8074\n",
            "Epoch 10/50\n",
            "\u001b[1m13/13\u001b[0m \u001b[32m━━━━━━━━━━━━━━━━━━━━\u001b[0m\u001b[37m\u001b[0m \u001b[1m0s\u001b[0m 6ms/step - loss: 0.7371 - val_loss: 0.7795\n",
            "Epoch 11/50\n",
            "\u001b[1m13/13\u001b[0m \u001b[32m━━━━━━━━━━━━━━━━━━━━\u001b[0m\u001b[37m\u001b[0m \u001b[1m0s\u001b[0m 6ms/step - loss: 0.6811 - val_loss: 0.7437\n",
            "Epoch 12/50\n",
            "\u001b[1m13/13\u001b[0m \u001b[32m━━━━━━━━━━━━━━━━━━━━\u001b[0m\u001b[37m\u001b[0m \u001b[1m0s\u001b[0m 6ms/step - loss: 0.6176 - val_loss: 0.7078\n",
            "Epoch 13/50\n",
            "\u001b[1m13/13\u001b[0m \u001b[32m━━━━━━━━━━━━━━━━━━━━\u001b[0m\u001b[37m\u001b[0m \u001b[1m0s\u001b[0m 6ms/step - loss: 0.6073 - val_loss: 0.6635\n",
            "Epoch 14/50\n",
            "\u001b[1m13/13\u001b[0m \u001b[32m━━━━━━━━━━━━━━━━━━━━\u001b[0m\u001b[37m\u001b[0m \u001b[1m0s\u001b[0m 6ms/step - loss: 0.5794 - val_loss: 0.6110\n",
            "Epoch 15/50\n",
            "\u001b[1m13/13\u001b[0m \u001b[32m━━━━━━━━━━━━━━━━━━━━\u001b[0m\u001b[37m\u001b[0m \u001b[1m0s\u001b[0m 6ms/step - loss: 0.5237 - val_loss: 0.5432\n",
            "Epoch 16/50\n",
            "\u001b[1m13/13\u001b[0m \u001b[32m━━━━━━━━━━━━━━━━━━━━\u001b[0m\u001b[37m\u001b[0m \u001b[1m0s\u001b[0m 7ms/step - loss: 0.5323 - val_loss: 0.4591\n",
            "Epoch 17/50\n",
            "\u001b[1m13/13\u001b[0m \u001b[32m━━━━━━━━━━━━━━━━━━━━\u001b[0m\u001b[37m\u001b[0m \u001b[1m0s\u001b[0m 6ms/step - loss: 0.5274 - val_loss: 0.3495\n",
            "Epoch 18/50\n",
            "\u001b[1m13/13\u001b[0m \u001b[32m━━━━━━━━━━━━━━━━━━━━\u001b[0m\u001b[37m\u001b[0m \u001b[1m0s\u001b[0m 6ms/step - loss: 0.4768 - val_loss: 0.2320\n",
            "Epoch 19/50\n",
            "\u001b[1m13/13\u001b[0m \u001b[32m━━━━━━━━━━━━━━━━━━━━\u001b[0m\u001b[37m\u001b[0m \u001b[1m0s\u001b[0m 7ms/step - loss: 0.4578 - val_loss: 0.1287\n",
            "Epoch 20/50\n",
            "\u001b[1m13/13\u001b[0m \u001b[32m━━━━━━━━━━━━━━━━━━━━\u001b[0m\u001b[37m\u001b[0m \u001b[1m0s\u001b[0m 6ms/step - loss: 0.4330 - val_loss: 0.0630\n",
            "Epoch 21/50\n",
            "\u001b[1m13/13\u001b[0m \u001b[32m━━━━━━━━━━━━━━━━━━━━\u001b[0m\u001b[37m\u001b[0m \u001b[1m0s\u001b[0m 7ms/step - loss: 0.4377 - val_loss: 0.0310\n",
            "Epoch 22/50\n",
            "\u001b[1m13/13\u001b[0m \u001b[32m━━━━━━━━━━━━━━━━━━━━\u001b[0m\u001b[37m\u001b[0m \u001b[1m0s\u001b[0m 6ms/step - loss: 0.4091 - val_loss: 0.0185\n",
            "Epoch 23/50\n",
            "\u001b[1m13/13\u001b[0m \u001b[32m━━━━━━━━━━━━━━━━━━━━\u001b[0m\u001b[37m\u001b[0m \u001b[1m0s\u001b[0m 6ms/step - loss: 0.4129 - val_loss: 0.0120\n",
            "Epoch 24/50\n",
            "\u001b[1m13/13\u001b[0m \u001b[32m━━━━━━━━━━━━━━━━━━━━\u001b[0m\u001b[37m\u001b[0m \u001b[1m0s\u001b[0m 6ms/step - loss: 0.3718 - val_loss: 0.0081\n",
            "Epoch 25/50\n",
            "\u001b[1m13/13\u001b[0m \u001b[32m━━━━━━━━━━━━━━━━━━━━\u001b[0m\u001b[37m\u001b[0m \u001b[1m0s\u001b[0m 6ms/step - loss: 0.3550 - val_loss: 0.0065\n",
            "Epoch 26/50\n",
            "\u001b[1m13/13\u001b[0m \u001b[32m━━━━━━━━━━━━━━━━━━━━\u001b[0m\u001b[37m\u001b[0m \u001b[1m0s\u001b[0m 6ms/step - loss: 0.3544 - val_loss: 0.0076\n",
            "Epoch 27/50\n",
            "\u001b[1m13/13\u001b[0m \u001b[32m━━━━━━━━━━━━━━━━━━━━\u001b[0m\u001b[37m\u001b[0m \u001b[1m0s\u001b[0m 6ms/step - loss: 0.3820 - val_loss: 0.0067\n",
            "Epoch 28/50\n",
            "\u001b[1m13/13\u001b[0m \u001b[32m━━━━━━━━━━━━━━━━━━━━\u001b[0m\u001b[37m\u001b[0m \u001b[1m0s\u001b[0m 6ms/step - loss: 0.3575 - val_loss: 0.0067\n",
            "Epoch 29/50\n",
            "\u001b[1m13/13\u001b[0m \u001b[32m━━━━━━━━━━━━━━━━━━━━\u001b[0m\u001b[37m\u001b[0m \u001b[1m0s\u001b[0m 11ms/step - loss: 0.3589 - val_loss: 0.0074\n",
            "Epoch 30/50\n",
            "\u001b[1m13/13\u001b[0m \u001b[32m━━━━━━━━━━━━━━━━━━━━\u001b[0m\u001b[37m\u001b[0m \u001b[1m0s\u001b[0m 6ms/step - loss: 0.3234 - val_loss: 0.0097\n",
            "Epoch 31/50\n",
            "\u001b[1m13/13\u001b[0m \u001b[32m━━━━━━━━━━━━━━━━━━━━\u001b[0m\u001b[37m\u001b[0m \u001b[1m0s\u001b[0m 6ms/step - loss: 0.3426 - val_loss: 0.0107\n",
            "Epoch 32/50\n",
            "\u001b[1m13/13\u001b[0m \u001b[32m━━━━━━━━━━━━━━━━━━━━\u001b[0m\u001b[37m\u001b[0m \u001b[1m0s\u001b[0m 6ms/step - loss: 0.3070 - val_loss: 0.0084\n",
            "Epoch 33/50\n",
            "\u001b[1m13/13\u001b[0m \u001b[32m━━━━━━━━━━━━━━━━━━━━\u001b[0m\u001b[37m\u001b[0m \u001b[1m0s\u001b[0m 7ms/step - loss: 0.2932 - val_loss: 0.0117\n",
            "Epoch 34/50\n",
            "\u001b[1m13/13\u001b[0m \u001b[32m━━━━━━━━━━━━━━━━━━━━\u001b[0m\u001b[37m\u001b[0m \u001b[1m0s\u001b[0m 10ms/step - loss: 0.2913 - val_loss: 0.0108\n",
            "Epoch 35/50\n",
            "\u001b[1m13/13\u001b[0m \u001b[32m━━━━━━━━━━━━━━━━━━━━\u001b[0m\u001b[37m\u001b[0m \u001b[1m0s\u001b[0m 9ms/step - loss: 0.2925 - val_loss: 0.0112\n",
            "Epoch 36/50\n",
            "\u001b[1m13/13\u001b[0m \u001b[32m━━━━━━━━━━━━━━━━━━━━\u001b[0m\u001b[37m\u001b[0m \u001b[1m0s\u001b[0m 12ms/step - loss: 0.2761 - val_loss: 0.0120\n",
            "Epoch 37/50\n",
            "\u001b[1m13/13\u001b[0m \u001b[32m━━━━━━━━━━━━━━━━━━━━\u001b[0m\u001b[37m\u001b[0m \u001b[1m0s\u001b[0m 12ms/step - loss: 0.2609 - val_loss: 0.0084\n",
            "Epoch 38/50\n",
            "\u001b[1m13/13\u001b[0m \u001b[32m━━━━━━━━━━━━━━━━━━━━\u001b[0m\u001b[37m\u001b[0m \u001b[1m0s\u001b[0m 12ms/step - loss: 0.2510 - val_loss: 0.0089\n",
            "Epoch 39/50\n",
            "\u001b[1m13/13\u001b[0m \u001b[32m━━━━━━━━━━━━━━━━━━━━\u001b[0m\u001b[37m\u001b[0m \u001b[1m0s\u001b[0m 12ms/step - loss: 0.2391 - val_loss: 0.0092\n",
            "Epoch 40/50\n",
            "\u001b[1m13/13\u001b[0m \u001b[32m━━━━━━━━━━━━━━━━━━━━\u001b[0m\u001b[37m\u001b[0m \u001b[1m0s\u001b[0m 13ms/step - loss: 0.2616 - val_loss: 0.0078\n",
            "Epoch 41/50\n",
            "\u001b[1m13/13\u001b[0m \u001b[32m━━━━━━━━━━━━━━━━━━━━\u001b[0m\u001b[37m\u001b[0m \u001b[1m0s\u001b[0m 8ms/step - loss: 0.2161 - val_loss: 0.0071\n",
            "Epoch 42/50\n",
            "\u001b[1m13/13\u001b[0m \u001b[32m━━━━━━━━━━━━━━━━━━━━\u001b[0m\u001b[37m\u001b[0m \u001b[1m0s\u001b[0m 6ms/step - loss: 0.2101 - val_loss: 0.0065\n",
            "Epoch 43/50\n",
            "\u001b[1m13/13\u001b[0m \u001b[32m━━━━━━━━━━━━━━━━━━━━\u001b[0m\u001b[37m\u001b[0m \u001b[1m0s\u001b[0m 10ms/step - loss: 0.2135 - val_loss: 0.0100\n",
            "Epoch 44/50\n",
            "\u001b[1m13/13\u001b[0m \u001b[32m━━━━━━━━━━━━━━━━━━━━\u001b[0m\u001b[37m\u001b[0m \u001b[1m0s\u001b[0m 6ms/step - loss: 0.1771 - val_loss: 0.0078\n",
            "Epoch 45/50\n",
            "\u001b[1m13/13\u001b[0m \u001b[32m━━━━━━━━━━━━━━━━━━━━\u001b[0m\u001b[37m\u001b[0m \u001b[1m0s\u001b[0m 7ms/step - loss: 0.1818 - val_loss: 0.0025\n",
            "Epoch 46/50\n",
            "\u001b[1m13/13\u001b[0m \u001b[32m━━━━━━━━━━━━━━━━━━━━\u001b[0m\u001b[37m\u001b[0m \u001b[1m0s\u001b[0m 6ms/step - loss: 0.1715 - val_loss: 3.9284e-04\n",
            "Epoch 47/50\n",
            "\u001b[1m13/13\u001b[0m \u001b[32m━━━━━━━━━━━━━━━━━━━━\u001b[0m\u001b[37m\u001b[0m \u001b[1m0s\u001b[0m 6ms/step - loss: 0.1735 - val_loss: 4.8385e-04\n",
            "Epoch 48/50\n",
            "\u001b[1m13/13\u001b[0m \u001b[32m━━━━━━━━━━━━━━━━━━━━\u001b[0m\u001b[37m\u001b[0m \u001b[1m0s\u001b[0m 6ms/step - loss: 0.1706 - val_loss: 5.7305e-04\n",
            "Epoch 49/50\n",
            "\u001b[1m13/13\u001b[0m \u001b[32m━━━━━━━━━━━━━━━━━━━━\u001b[0m\u001b[37m\u001b[0m \u001b[1m0s\u001b[0m 6ms/step - loss: 0.1515 - val_loss: 0.0019\n",
            "Epoch 50/50\n",
            "\u001b[1m13/13\u001b[0m \u001b[32m━━━━━━━━━━━━━━━━━━━━\u001b[0m\u001b[37m\u001b[0m \u001b[1m0s\u001b[0m 6ms/step - loss: 0.1497 - val_loss: 2.1788e-04\n"
          ]
        },
        {
          "output_type": "stream",
          "name": "stderr",
          "text": [
            "WARNING:absl:You are saving your model as an HDF5 file via `model.save()` or `keras.saving.save_model(model)`. This file format is considered legacy. We recommend using instead the native Keras format, e.g. `model.save('my_model.keras')` or `keras.saving.save_model(model, 'my_model.keras')`. \n"
          ]
        }
      ],
      "source": [
        "from tensorflow.keras.models import Model\n",
        "from tensorflow.keras.layers import Input, Dense\n",
        "\n",
        "# Select features for training\n",
        "features = ['sensor_name', 'statistics_type', 'description', 'unit']\n",
        "X_train = df_cleaned[features].values\n",
        "\n",
        "# Normalize the input data\n",
        "scaler = StandardScaler()\n",
        "X_train = scaler.fit_transform(X_train)\n",
        "\n",
        "# Define Autoencoder architecture\n",
        "input_dim = X_train.shape[1]\n",
        "\n",
        "input_layer = Input(shape=(input_dim,))\n",
        "encoded = Dense(16, activation='relu')(input_layer)\n",
        "encoded = Dense(8, activation='relu')(encoded)\n",
        "encoded = Dense(4, activation='relu')(encoded)\n",
        "\n",
        "decoded = Dense(8, activation='relu')(encoded)\n",
        "decoded = Dense(16, activation='relu')(decoded)\n",
        "decoded = Dense(input_dim, activation='linear')(decoded)\n",
        "\n",
        "autoencoder = Model(input_layer, decoded)\n",
        "autoencoder.compile(optimizer='adam', loss='mse')\n",
        "\n",
        "# Train the autoencoder\n",
        "history = autoencoder.fit(X_train, X_train, epochs=50, batch_size=32, validation_split=0.1, verbose=1)\n",
        "\n",
        "# Save the trained model\n",
        "autoencoder.save(\"autoencoder_model.h5\")\n"
      ]
    },
    {
      "cell_type": "code",
      "execution_count": null,
      "metadata": {
        "colab": {
          "base_uri": "https://localhost:8080/"
        },
        "id": "foGpppCDi_7w",
        "outputId": "59d27aa3-f047-467f-eb9c-32f941349b9b"
      },
      "outputs": [
        {
          "output_type": "stream",
          "name": "stdout",
          "text": [
            "\u001b[1m15/15\u001b[0m \u001b[32m━━━━━━━━━━━━━━━━━━━━\u001b[0m\u001b[37m\u001b[0m \u001b[1m1s\u001b[0m 24ms/step\n",
            "    sensor_name  Anomaly\n",
            "0            16        1\n",
            "1            17        0\n",
            "2           124        0\n",
            "3           250        0\n",
            "4           251        1\n",
            "5           192        0\n",
            "6           203        0\n",
            "7           214        0\n",
            "8           225        0\n",
            "9           236        0\n",
            "10           18        0\n",
            "11           29        0\n",
            "12           39        0\n",
            "13           47        0\n",
            "14           58        0\n",
            "15           69        0\n",
            "16           80        0\n",
            "17           91        0\n",
            "18          102        0\n",
            "19          113        0\n"
          ]
        }
      ],
      "source": [
        "# Reconstruct data using the trained model\n",
        "X_train_pred = autoencoder.predict(X_train)\n",
        "\n",
        "# Compute Mean Squared Error (MSE)\n",
        "mse = np.mean(np.power(X_train - X_train_pred, 2), axis=1)\n",
        "\n",
        "# Set threshold for anomaly detection (e.g., 95th percentile)\n",
        "threshold = np.percentile(mse, 95)\n",
        "\n",
        "# Identify anomalies\n",
        "anomalies = mse > threshold\n",
        "\n",
        "# Add anomaly labels to dataset\n",
        "df_cleaned['Anomaly'] = anomalies.astype(int)\n",
        "\n",
        "# Check anomalies\n",
        "print(df_cleaned[['sensor_name', 'Anomaly']].head(20))\n"
      ]
    },
    {
      "cell_type": "code",
      "execution_count": null,
      "metadata": {
        "colab": {
          "base_uri": "https://localhost:8080/",
          "height": 487
        },
        "id": "j32PrxVvjQ0D",
        "outputId": "5475b5a2-2595-4302-b266-c4ea84f28b66"
      },
      "outputs": [
        {
          "output_type": "display_data",
          "data": {
            "text/plain": [
              "<Figure size 1000x500 with 1 Axes>"
            ],
            "image/png": "[encoded data removed]"
          },
          "metadata": {}
        }
      ],
      "source": [
        "plt.figure(figsize=(10,5))\n",
        "sns.histplot(mse, bins=50, kde=True)\n",
        "plt.axvline(threshold, color='red', linestyle='dashed', label='Anomaly Threshold')\n",
        "plt.xlabel(\"Reconstruction Error (MSE)\")\n",
        "plt.ylabel(\"Frequency\")\n",
        "plt.title(\"Anomaly Score Distribution\")\n",
        "plt.legend()\n",
        "plt.show()"
      ]
    },
    {
      "cell_type": "code",
      "execution_count": null,
      "metadata": {
        "colab": {
          "base_uri": "https://localhost:8080/",
          "height": 487
        },
        "id": "dYJLqTBEjSvI",
        "outputId": "2828d61b-3fd5-4e3e-fc62-61916499938e"
      },
      "outputs": [
        {
          "output_type": "display_data",
          "data": {
            "text/plain": [
              "<Figure size 1000x500 with 1 Axes>"
            ],
            "image/png": "[encoded data removed]"
          },
          "metadata": {}
        }
      ],
      "source": [
        "plt.figure(figsize=(10,5))\n",
        "plt.scatter(range(len(mse)), mse, c=anomalies, cmap='coolwarm', alpha=0.7)\n",
        "plt.axhline(threshold, color='red', linestyle='dashed', label='Threshold')\n",
        "plt.xlabel(\"Data Point Index\")\n",
        "plt.ylabel(\"Reconstruction Error\")\n",
        "plt.title(\"Anomaly Detection\")\n",
        "plt.legend()\n",
        "plt.show()"
      ]
    },
    {
      "cell_type": "code",
      "source": [
        "import pandas as pd\n",
        "import os\n",
        "\n",
        "# Function to process all CSV files in a folder (Wind Farm A, B, C) in smaller parts\n",
        "def process_wind_farm(data_path, save_path):\n",
        "    first_file = True  # To handle headers correctly\n",
        "    for file in os.listdir(data_path):\n",
        "        if file.endswith(\".csv\"):\n",
        "            file_path = os.path.join(data_path, file)\n",
        "\n",
        "            # Read CSV in small chunks (lower memory usage)\n",
        "            chunk_size = 10000\n",
        "            for chunk in pd.read_csv(file_path, chunksize=chunk_size, engine=\"python\", on_bad_lines='skip',\n",
        "                                     dtype={\"status_type_id\": \"int16\", \"sensor_0_avg\": \"float32\"}):  # Optimize memory\n",
        "                chunk['time_stamp'] = pd.to_datetime(chunk['time_stamp'], errors='coerce')  # Convert timestamps\n",
        "                chunk = chunk.sort_values(by='time_stamp')  # Sort within each chunk\n",
        "\n",
        "                # Save processed data in smaller parts\n",
        "                chunk.to_csv(save_path, mode='a', header=first_file, index=False)\n",
        "                first_file = False  # Ensure headers only appear once\n",
        "\n",
        "# Process & Save Each Wind Farm Separately\n",
        "process_wind_farm(\"/content/Wind Farm A/datasets\", \"/content/processed_wind_farm_a.csv\")\n",
        "process_wind_farm(\"/content/Wind Farm B/datasets\", \"/content/processed_wind_farm_b.csv\")\n",
        "process_wind_farm(\"/content/Wind Farm C/datasets\", \"/content/processed_wind_farm_c.csv\")\n",
        "\n",
        "print(\"✅ Processing completed. Now merging...\")\n",
        "\n",
        "# Merge Processed Files in Small Parts\n",
        "chunk_size = 10000\n",
        "df_all = pd.DataFrame()\n",
        "\n",
        "for file in [\"/content/processed_wind_farm_a.csv\", \"/content/processed_wind_farm_b.csv\", \"/content/processed_wind_farm_c.csv\"]:\n",
        "    for chunk in pd.read_csv(file, chunksize=chunk_size, parse_dates=['time_stamp'], dtype=\"float32\"):\n",
        "        df_all = pd.concat([df_all, chunk], ignore_index=True)\n",
        "\n",
        "# Sort & Save Final Dataset\n",
        "df_all = df_all.sort_values(by='time_stamp')\n",
        "df_all.to_csv(\"/content/final_merged_wind_farm.csv\", index=False)\n",
        "\n",
        "print(\"✅ Final dataset saved as: /content/final_merged_wind_farm.csv\")\n",
        "print(df_all.info())\n"
      ],
      "metadata": {
        "id": "9t0jmveSI_pv"
      },
      "execution_count": null,
      "outputs": []
    }
  ],
  "metadata": {
    "colab": {
      "provenance": [],
      "gpuType": "T4"
    },
    "kernelspec": {
      "display_name": "Python 3",
      "name": "python3"
    },
    "language_info": {
      "name": "python"
    },
    "accelerator": "GPU"
  },
  "nbformat": 4,
  "nbformat_minor": 0
}